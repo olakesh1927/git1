{
 "cells": [
  {
   "cell_type": "code",
   "execution_count": 1,
   "id": "45b5d95c",
   "metadata": {},
   "outputs": [],
   "source": [
    "import numpy as np\n",
    "import pandas as pd"
   ]
  },
  {
   "cell_type": "code",
   "execution_count": 17,
   "id": "9b0aa13f",
   "metadata": {},
   "outputs": [
    {
     "data": {
      "text/html": [
       "<div>\n",
       "<style scoped>\n",
       "    .dataframe tbody tr th:only-of-type {\n",
       "        vertical-align: middle;\n",
       "    }\n",
       "\n",
       "    .dataframe tbody tr th {\n",
       "        vertical-align: top;\n",
       "    }\n",
       "\n",
       "    .dataframe thead th {\n",
       "        text-align: right;\n",
       "    }\n",
       "</style>\n",
       "<table border=\"1\" class=\"dataframe\">\n",
       "  <thead>\n",
       "    <tr style=\"text-align: right;\">\n",
       "      <th></th>\n",
       "      <th>ID</th>\n",
       "      <th>Year_of_Birth</th>\n",
       "      <th>Education_Level</th>\n",
       "      <th>Marital_Status</th>\n",
       "      <th>Disposable_Income</th>\n",
       "      <th>No_of_Kids_in_home</th>\n",
       "      <th>No_of_Teen_in_home</th>\n",
       "      <th>Date_Customer</th>\n",
       "      <th>Recency</th>\n",
       "      <th>Discounted_Purchases</th>\n",
       "      <th>...</th>\n",
       "      <th>Amount_on_SweetProducts</th>\n",
       "      <th>Amount_on_GoldProds</th>\n",
       "      <th>WebVisitsMonth</th>\n",
       "      <th>Cmp3Accepted</th>\n",
       "      <th>Cmp4Accepted</th>\n",
       "      <th>Cmp5Accepted</th>\n",
       "      <th>Cmp1Accepted</th>\n",
       "      <th>Cmp2Accepted</th>\n",
       "      <th>Any_Complain</th>\n",
       "      <th>Response</th>\n",
       "    </tr>\n",
       "  </thead>\n",
       "  <tbody>\n",
       "    <tr>\n",
       "      <th>0</th>\n",
       "      <td>ID_4A9AR6FQ</td>\n",
       "      <td>1955</td>\n",
       "      <td>Graduation</td>\n",
       "      <td>Divorced</td>\n",
       "      <td>77504.4</td>\n",
       "      <td>1</td>\n",
       "      <td>1</td>\n",
       "      <td>22-06-2014</td>\n",
       "      <td>56</td>\n",
       "      <td>2</td>\n",
       "      <td>...</td>\n",
       "      <td>6</td>\n",
       "      <td>20</td>\n",
       "      <td>3</td>\n",
       "      <td>0</td>\n",
       "      <td>0</td>\n",
       "      <td>0</td>\n",
       "      <td>0</td>\n",
       "      <td>0</td>\n",
       "      <td>0</td>\n",
       "      <td>0</td>\n",
       "    </tr>\n",
       "    <tr>\n",
       "      <th>1</th>\n",
       "      <td>ID_X28T3VEK</td>\n",
       "      <td>1958</td>\n",
       "      <td>Graduation</td>\n",
       "      <td>Together</td>\n",
       "      <td>56784.0</td>\n",
       "      <td>0</td>\n",
       "      <td>1</td>\n",
       "      <td>01-08-2013</td>\n",
       "      <td>17</td>\n",
       "      <td>6</td>\n",
       "      <td>...</td>\n",
       "      <td>15</td>\n",
       "      <td>19</td>\n",
       "      <td>6</td>\n",
       "      <td>0</td>\n",
       "      <td>0</td>\n",
       "      <td>0</td>\n",
       "      <td>0</td>\n",
       "      <td>0</td>\n",
       "      <td>0</td>\n",
       "      <td>0</td>\n",
       "    </tr>\n",
       "    <tr>\n",
       "      <th>2</th>\n",
       "      <td>ID_AWXARH57</td>\n",
       "      <td>1962</td>\n",
       "      <td>Graduation</td>\n",
       "      <td>Single</td>\n",
       "      <td>103714.8</td>\n",
       "      <td>0</td>\n",
       "      <td>0</td>\n",
       "      <td>21-11-2013</td>\n",
       "      <td>17</td>\n",
       "      <td>0</td>\n",
       "      <td>...</td>\n",
       "      <td>18</td>\n",
       "      <td>37</td>\n",
       "      <td>2</td>\n",
       "      <td>0</td>\n",
       "      <td>0</td>\n",
       "      <td>0</td>\n",
       "      <td>1</td>\n",
       "      <td>0</td>\n",
       "      <td>0</td>\n",
       "      <td>1</td>\n",
       "    </tr>\n",
       "    <tr>\n",
       "      <th>3</th>\n",
       "      <td>ID_FQVZHE81</td>\n",
       "      <td>1979</td>\n",
       "      <td>2n Cycle</td>\n",
       "      <td>Single</td>\n",
       "      <td>46311.6</td>\n",
       "      <td>1</td>\n",
       "      <td>0</td>\n",
       "      <td>13-09-2013</td>\n",
       "      <td>49</td>\n",
       "      <td>3</td>\n",
       "      <td>...</td>\n",
       "      <td>24</td>\n",
       "      <td>24</td>\n",
       "      <td>8</td>\n",
       "      <td>0</td>\n",
       "      <td>0</td>\n",
       "      <td>0</td>\n",
       "      <td>0</td>\n",
       "      <td>0</td>\n",
       "      <td>0</td>\n",
       "      <td>0</td>\n",
       "    </tr>\n",
       "    <tr>\n",
       "      <th>4</th>\n",
       "      <td>ID_QVLWGPRN</td>\n",
       "      <td>1959</td>\n",
       "      <td>Graduation</td>\n",
       "      <td>Married</td>\n",
       "      <td>87486.0</td>\n",
       "      <td>0</td>\n",
       "      <td>0</td>\n",
       "      <td>21-01-2014</td>\n",
       "      <td>59</td>\n",
       "      <td>1</td>\n",
       "      <td>...</td>\n",
       "      <td>165</td>\n",
       "      <td>203</td>\n",
       "      <td>1</td>\n",
       "      <td>0</td>\n",
       "      <td>0</td>\n",
       "      <td>0</td>\n",
       "      <td>1</td>\n",
       "      <td>0</td>\n",
       "      <td>0</td>\n",
       "      <td>0</td>\n",
       "    </tr>\n",
       "  </tbody>\n",
       "</table>\n",
       "<p>5 rows × 27 columns</p>\n",
       "</div>"
      ],
      "text/plain": [
       "            ID  Year_of_Birth Education_Level Marital_Status  \\\n",
       "0  ID_4A9AR6FQ           1955      Graduation       Divorced   \n",
       "1  ID_X28T3VEK           1958      Graduation       Together   \n",
       "2  ID_AWXARH57           1962      Graduation         Single   \n",
       "3  ID_FQVZHE81           1979        2n Cycle         Single   \n",
       "4  ID_QVLWGPRN           1959      Graduation        Married   \n",
       "\n",
       "   Disposable_Income  No_of_Kids_in_home  No_of_Teen_in_home Date_Customer  \\\n",
       "0            77504.4                   1                   1    22-06-2014   \n",
       "1            56784.0                   0                   1    01-08-2013   \n",
       "2           103714.8                   0                   0    21-11-2013   \n",
       "3            46311.6                   1                   0    13-09-2013   \n",
       "4            87486.0                   0                   0    21-01-2014   \n",
       "\n",
       "   Recency  Discounted_Purchases  ...  Amount_on_SweetProducts  \\\n",
       "0       56                     2  ...                        6   \n",
       "1       17                     6  ...                       15   \n",
       "2       17                     0  ...                       18   \n",
       "3       49                     3  ...                       24   \n",
       "4       59                     1  ...                      165   \n",
       "\n",
       "   Amount_on_GoldProds  WebVisitsMonth  Cmp3Accepted  Cmp4Accepted  \\\n",
       "0                   20               3             0             0   \n",
       "1                   19               6             0             0   \n",
       "2                   37               2             0             0   \n",
       "3                   24               8             0             0   \n",
       "4                  203               1             0             0   \n",
       "\n",
       "   Cmp5Accepted  Cmp1Accepted  Cmp2Accepted  Any_Complain  Response  \n",
       "0             0             0             0             0         0  \n",
       "1             0             0             0             0         0  \n",
       "2             0             1             0             0         1  \n",
       "3             0             0             0             0         0  \n",
       "4             0             1             0             0         0  \n",
       "\n",
       "[5 rows x 27 columns]"
      ]
     },
     "execution_count": 17,
     "metadata": {},
     "output_type": "execute_result"
    }
   ],
   "source": [
    "myproduct=pd.read_csv(\"C:\\\\Users\\\\Dell\\\\python\\\\class\\\\product.csv\")\n",
    "myproduct.head()"
   ]
  },
  {
   "cell_type": "code",
   "execution_count": 18,
   "id": "d404d033",
   "metadata": {},
   "outputs": [],
   "source": [
    "year=np.array(myproduct[\"Year_of_Birth\"])\n",
    "edu=np.array(myproduct[\"Education_Level\"])\n",
    "sta=np.array(myproduct[\"Marital_Status\"])\n",
    "kid=np.array(myproduct[\"No_of_Kids_in_home\"])\n",
    "teen=np.array(myproduct[\"No_of_Teen_in_home\"])"
   ]
  },
  {
   "cell_type": "code",
   "execution_count": 19,
   "id": "ab706848",
   "metadata": {},
   "outputs": [
    {
     "name": "stdout",
     "output_type": "stream",
     "text": [
      "<class 'pandas.core.frame.DataFrame'>\n",
      "RangeIndex: 1568 entries, 0 to 1567\n",
      "Data columns (total 27 columns):\n",
      " #   Column                   Non-Null Count  Dtype  \n",
      "---  ------                   --------------  -----  \n",
      " 0   ID                       1568 non-null   object \n",
      " 1   Year_of_Birth            1568 non-null   int64  \n",
      " 2   Education_Level          1568 non-null   object \n",
      " 3   Marital_Status           1568 non-null   object \n",
      " 4   Disposable_Income        1552 non-null   float64\n",
      " 5   No_of_Kids_in_home       1568 non-null   int64  \n",
      " 6   No_of_Teen_in_home       1568 non-null   int64  \n",
      " 7   Date_Customer            1568 non-null   object \n",
      " 8   Recency                  1568 non-null   int64  \n",
      " 9   Discounted_Purchases     1568 non-null   int64  \n",
      " 10  WebPurchases             1568 non-null   int64  \n",
      " 11  CatalogPurchases         1568 non-null   int64  \n",
      " 12  StorePurchases           1568 non-null   int64  \n",
      " 13  Amount_on_Wines          1568 non-null   int64  \n",
      " 14  Amount_on_Fruits         1568 non-null   int64  \n",
      " 15  Amount_on_MeatProducts   1568 non-null   int64  \n",
      " 16  Amount_on_FishProducts   1568 non-null   int64  \n",
      " 17  Amount_on_SweetProducts  1568 non-null   int64  \n",
      " 18  Amount_on_GoldProds      1568 non-null   int64  \n",
      " 19  WebVisitsMonth           1568 non-null   int64  \n",
      " 20  Cmp3Accepted             1568 non-null   int64  \n",
      " 21  Cmp4Accepted             1568 non-null   int64  \n",
      " 22  Cmp5Accepted             1568 non-null   int64  \n",
      " 23  Cmp1Accepted             1568 non-null   int64  \n",
      " 24  Cmp2Accepted             1568 non-null   int64  \n",
      " 25  Any_Complain             1568 non-null   int64  \n",
      " 26  Response                 1568 non-null   int64  \n",
      "dtypes: float64(1), int64(22), object(4)\n",
      "memory usage: 306.3+ KB\n"
     ]
    }
   ],
   "source": [
    "myproduct.info()"
   ]
  },
  {
   "cell_type": "code",
   "execution_count": 20,
   "id": "c2b2dafd",
   "metadata": {
    "collapsed": true
   },
   "outputs": [
    {
     "data": {
      "text/plain": [
       "ID                          0\n",
       "Year_of_Birth               0\n",
       "Education_Level             0\n",
       "Marital_Status              0\n",
       "Disposable_Income          16\n",
       "No_of_Kids_in_home          0\n",
       "No_of_Teen_in_home          0\n",
       "Date_Customer               0\n",
       "Recency                     0\n",
       "Discounted_Purchases        0\n",
       "WebPurchases                0\n",
       "CatalogPurchases            0\n",
       "StorePurchases              0\n",
       "Amount_on_Wines             0\n",
       "Amount_on_Fruits            0\n",
       "Amount_on_MeatProducts      0\n",
       "Amount_on_FishProducts      0\n",
       "Amount_on_SweetProducts     0\n",
       "Amount_on_GoldProds         0\n",
       "WebVisitsMonth              0\n",
       "Cmp3Accepted                0\n",
       "Cmp4Accepted                0\n",
       "Cmp5Accepted                0\n",
       "Cmp1Accepted                0\n",
       "Cmp2Accepted                0\n",
       "Any_Complain                0\n",
       "Response                    0\n",
       "dtype: int64"
      ]
     },
     "execution_count": 20,
     "metadata": {},
     "output_type": "execute_result"
    }
   ],
   "source": [
    "myproduct.isna().sum()"
   ]
  },
  {
   "cell_type": "code",
   "execution_count": 22,
   "id": "ec824595",
   "metadata": {},
   "outputs": [
    {
     "data": {
      "text/html": [
       "<div>\n",
       "<style scoped>\n",
       "    .dataframe tbody tr th:only-of-type {\n",
       "        vertical-align: middle;\n",
       "    }\n",
       "\n",
       "    .dataframe tbody tr th {\n",
       "        vertical-align: top;\n",
       "    }\n",
       "\n",
       "    .dataframe thead th {\n",
       "        text-align: right;\n",
       "    }\n",
       "</style>\n",
       "<table border=\"1\" class=\"dataframe\">\n",
       "  <thead>\n",
       "    <tr style=\"text-align: right;\">\n",
       "      <th></th>\n",
       "      <th>ID</th>\n",
       "      <th>Year_of_Birth</th>\n",
       "      <th>Education_Level</th>\n",
       "      <th>Marital_Status</th>\n",
       "      <th>Disposable_Income</th>\n",
       "      <th>No_of_Kids_in_home</th>\n",
       "      <th>No_of_Teen_in_home</th>\n",
       "      <th>Date_Customer</th>\n",
       "      <th>Recency</th>\n",
       "      <th>Discounted_Purchases</th>\n",
       "      <th>...</th>\n",
       "      <th>Amount_on_SweetProducts</th>\n",
       "      <th>Amount_on_GoldProds</th>\n",
       "      <th>WebVisitsMonth</th>\n",
       "      <th>Cmp3Accepted</th>\n",
       "      <th>Cmp4Accepted</th>\n",
       "      <th>Cmp5Accepted</th>\n",
       "      <th>Cmp1Accepted</th>\n",
       "      <th>Cmp2Accepted</th>\n",
       "      <th>Any_Complain</th>\n",
       "      <th>Response</th>\n",
       "    </tr>\n",
       "  </thead>\n",
       "  <tbody>\n",
       "    <tr>\n",
       "      <th>0</th>\n",
       "      <td>ID_4A9AR6FQ</td>\n",
       "      <td>1955</td>\n",
       "      <td>Graduation</td>\n",
       "      <td>Divorced</td>\n",
       "      <td>77504.4</td>\n",
       "      <td>1</td>\n",
       "      <td>1</td>\n",
       "      <td>22-06-2014</td>\n",
       "      <td>56</td>\n",
       "      <td>2</td>\n",
       "      <td>...</td>\n",
       "      <td>6</td>\n",
       "      <td>20</td>\n",
       "      <td>3</td>\n",
       "      <td>0</td>\n",
       "      <td>0</td>\n",
       "      <td>0</td>\n",
       "      <td>0</td>\n",
       "      <td>0</td>\n",
       "      <td>0</td>\n",
       "      <td>0</td>\n",
       "    </tr>\n",
       "    <tr>\n",
       "      <th>1</th>\n",
       "      <td>ID_X28T3VEK</td>\n",
       "      <td>1958</td>\n",
       "      <td>Graduation</td>\n",
       "      <td>Together</td>\n",
       "      <td>56784.0</td>\n",
       "      <td>0</td>\n",
       "      <td>1</td>\n",
       "      <td>01-08-2013</td>\n",
       "      <td>17</td>\n",
       "      <td>6</td>\n",
       "      <td>...</td>\n",
       "      <td>15</td>\n",
       "      <td>19</td>\n",
       "      <td>6</td>\n",
       "      <td>0</td>\n",
       "      <td>0</td>\n",
       "      <td>0</td>\n",
       "      <td>0</td>\n",
       "      <td>0</td>\n",
       "      <td>0</td>\n",
       "      <td>0</td>\n",
       "    </tr>\n",
       "    <tr>\n",
       "      <th>2</th>\n",
       "      <td>ID_AWXARH57</td>\n",
       "      <td>1962</td>\n",
       "      <td>Graduation</td>\n",
       "      <td>Single</td>\n",
       "      <td>103714.8</td>\n",
       "      <td>0</td>\n",
       "      <td>0</td>\n",
       "      <td>21-11-2013</td>\n",
       "      <td>17</td>\n",
       "      <td>0</td>\n",
       "      <td>...</td>\n",
       "      <td>18</td>\n",
       "      <td>37</td>\n",
       "      <td>2</td>\n",
       "      <td>0</td>\n",
       "      <td>0</td>\n",
       "      <td>0</td>\n",
       "      <td>1</td>\n",
       "      <td>0</td>\n",
       "      <td>0</td>\n",
       "      <td>1</td>\n",
       "    </tr>\n",
       "    <tr>\n",
       "      <th>3</th>\n",
       "      <td>ID_FQVZHE81</td>\n",
       "      <td>1979</td>\n",
       "      <td>2n Cycle</td>\n",
       "      <td>Single</td>\n",
       "      <td>46311.6</td>\n",
       "      <td>1</td>\n",
       "      <td>0</td>\n",
       "      <td>13-09-2013</td>\n",
       "      <td>49</td>\n",
       "      <td>3</td>\n",
       "      <td>...</td>\n",
       "      <td>24</td>\n",
       "      <td>24</td>\n",
       "      <td>8</td>\n",
       "      <td>0</td>\n",
       "      <td>0</td>\n",
       "      <td>0</td>\n",
       "      <td>0</td>\n",
       "      <td>0</td>\n",
       "      <td>0</td>\n",
       "      <td>0</td>\n",
       "    </tr>\n",
       "    <tr>\n",
       "      <th>4</th>\n",
       "      <td>ID_QVLWGPRN</td>\n",
       "      <td>1959</td>\n",
       "      <td>Graduation</td>\n",
       "      <td>Married</td>\n",
       "      <td>87486.0</td>\n",
       "      <td>0</td>\n",
       "      <td>0</td>\n",
       "      <td>21-01-2014</td>\n",
       "      <td>59</td>\n",
       "      <td>1</td>\n",
       "      <td>...</td>\n",
       "      <td>165</td>\n",
       "      <td>203</td>\n",
       "      <td>1</td>\n",
       "      <td>0</td>\n",
       "      <td>0</td>\n",
       "      <td>0</td>\n",
       "      <td>1</td>\n",
       "      <td>0</td>\n",
       "      <td>0</td>\n",
       "      <td>0</td>\n",
       "    </tr>\n",
       "    <tr>\n",
       "      <th>...</th>\n",
       "      <td>...</td>\n",
       "      <td>...</td>\n",
       "      <td>...</td>\n",
       "      <td>...</td>\n",
       "      <td>...</td>\n",
       "      <td>...</td>\n",
       "      <td>...</td>\n",
       "      <td>...</td>\n",
       "      <td>...</td>\n",
       "      <td>...</td>\n",
       "      <td>...</td>\n",
       "      <td>...</td>\n",
       "      <td>...</td>\n",
       "      <td>...</td>\n",
       "      <td>...</td>\n",
       "      <td>...</td>\n",
       "      <td>...</td>\n",
       "      <td>...</td>\n",
       "      <td>...</td>\n",
       "      <td>...</td>\n",
       "      <td>...</td>\n",
       "    </tr>\n",
       "    <tr>\n",
       "      <th>1563</th>\n",
       "      <td>ID_XWINUFGG</td>\n",
       "      <td>1970</td>\n",
       "      <td>Graduation</td>\n",
       "      <td>Married</td>\n",
       "      <td>52893.6</td>\n",
       "      <td>1</td>\n",
       "      <td>1</td>\n",
       "      <td>19-06-2014</td>\n",
       "      <td>24</td>\n",
       "      <td>2</td>\n",
       "      <td>...</td>\n",
       "      <td>0</td>\n",
       "      <td>4</td>\n",
       "      <td>5</td>\n",
       "      <td>0</td>\n",
       "      <td>0</td>\n",
       "      <td>0</td>\n",
       "      <td>0</td>\n",
       "      <td>0</td>\n",
       "      <td>0</td>\n",
       "      <td>0</td>\n",
       "    </tr>\n",
       "    <tr>\n",
       "      <th>1564</th>\n",
       "      <td>ID_GLVIHZLR</td>\n",
       "      <td>1980</td>\n",
       "      <td>Graduation</td>\n",
       "      <td>Single</td>\n",
       "      <td>74190.0</td>\n",
       "      <td>0</td>\n",
       "      <td>1</td>\n",
       "      <td>07-08-2013</td>\n",
       "      <td>63</td>\n",
       "      <td>1</td>\n",
       "      <td>...</td>\n",
       "      <td>30</td>\n",
       "      <td>27</td>\n",
       "      <td>4</td>\n",
       "      <td>0</td>\n",
       "      <td>0</td>\n",
       "      <td>0</td>\n",
       "      <td>0</td>\n",
       "      <td>0</td>\n",
       "      <td>0</td>\n",
       "      <td>0</td>\n",
       "    </tr>\n",
       "    <tr>\n",
       "      <th>1565</th>\n",
       "      <td>ID_O11VSIJY</td>\n",
       "      <td>1952</td>\n",
       "      <td>Master</td>\n",
       "      <td>Married</td>\n",
       "      <td>80857.2</td>\n",
       "      <td>0</td>\n",
       "      <td>1</td>\n",
       "      <td>15-01-2013</td>\n",
       "      <td>74</td>\n",
       "      <td>4</td>\n",
       "      <td>...</td>\n",
       "      <td>0</td>\n",
       "      <td>70</td>\n",
       "      <td>7</td>\n",
       "      <td>0</td>\n",
       "      <td>1</td>\n",
       "      <td>0</td>\n",
       "      <td>0</td>\n",
       "      <td>0</td>\n",
       "      <td>0</td>\n",
       "      <td>0</td>\n",
       "    </tr>\n",
       "    <tr>\n",
       "      <th>1566</th>\n",
       "      <td>ID_VS37P6MS</td>\n",
       "      <td>1964</td>\n",
       "      <td>PhD</td>\n",
       "      <td>Single</td>\n",
       "      <td>58701.6</td>\n",
       "      <td>1</td>\n",
       "      <td>1</td>\n",
       "      <td>12-04-2014</td>\n",
       "      <td>28</td>\n",
       "      <td>2</td>\n",
       "      <td>...</td>\n",
       "      <td>0</td>\n",
       "      <td>1</td>\n",
       "      <td>4</td>\n",
       "      <td>0</td>\n",
       "      <td>0</td>\n",
       "      <td>0</td>\n",
       "      <td>0</td>\n",
       "      <td>0</td>\n",
       "      <td>0</td>\n",
       "      <td>0</td>\n",
       "    </tr>\n",
       "    <tr>\n",
       "      <th>1567</th>\n",
       "      <td>ID_AKHOY7EI</td>\n",
       "      <td>1970</td>\n",
       "      <td>Graduation</td>\n",
       "      <td>Together</td>\n",
       "      <td>27873.6</td>\n",
       "      <td>1</td>\n",
       "      <td>0</td>\n",
       "      <td>26-01-2014</td>\n",
       "      <td>78</td>\n",
       "      <td>2</td>\n",
       "      <td>...</td>\n",
       "      <td>1</td>\n",
       "      <td>0</td>\n",
       "      <td>8</td>\n",
       "      <td>0</td>\n",
       "      <td>0</td>\n",
       "      <td>0</td>\n",
       "      <td>0</td>\n",
       "      <td>0</td>\n",
       "      <td>0</td>\n",
       "      <td>0</td>\n",
       "    </tr>\n",
       "  </tbody>\n",
       "</table>\n",
       "<p>1552 rows × 27 columns</p>\n",
       "</div>"
      ],
      "text/plain": [
       "               ID  Year_of_Birth Education_Level Marital_Status  \\\n",
       "0     ID_4A9AR6FQ           1955      Graduation       Divorced   \n",
       "1     ID_X28T3VEK           1958      Graduation       Together   \n",
       "2     ID_AWXARH57           1962      Graduation         Single   \n",
       "3     ID_FQVZHE81           1979        2n Cycle         Single   \n",
       "4     ID_QVLWGPRN           1959      Graduation        Married   \n",
       "...           ...            ...             ...            ...   \n",
       "1563  ID_XWINUFGG           1970      Graduation        Married   \n",
       "1564  ID_GLVIHZLR           1980      Graduation         Single   \n",
       "1565  ID_O11VSIJY           1952          Master        Married   \n",
       "1566  ID_VS37P6MS           1964             PhD         Single   \n",
       "1567  ID_AKHOY7EI           1970      Graduation       Together   \n",
       "\n",
       "      Disposable_Income  No_of_Kids_in_home  No_of_Teen_in_home Date_Customer  \\\n",
       "0               77504.4                   1                   1    22-06-2014   \n",
       "1               56784.0                   0                   1    01-08-2013   \n",
       "2              103714.8                   0                   0    21-11-2013   \n",
       "3               46311.6                   1                   0    13-09-2013   \n",
       "4               87486.0                   0                   0    21-01-2014   \n",
       "...                 ...                 ...                 ...           ...   \n",
       "1563            52893.6                   1                   1    19-06-2014   \n",
       "1564            74190.0                   0                   1    07-08-2013   \n",
       "1565            80857.2                   0                   1    15-01-2013   \n",
       "1566            58701.6                   1                   1    12-04-2014   \n",
       "1567            27873.6                   1                   0    26-01-2014   \n",
       "\n",
       "      Recency  Discounted_Purchases  ...  Amount_on_SweetProducts  \\\n",
       "0          56                     2  ...                        6   \n",
       "1          17                     6  ...                       15   \n",
       "2          17                     0  ...                       18   \n",
       "3          49                     3  ...                       24   \n",
       "4          59                     1  ...                      165   \n",
       "...       ...                   ...  ...                      ...   \n",
       "1563       24                     2  ...                        0   \n",
       "1564       63                     1  ...                       30   \n",
       "1565       74                     4  ...                        0   \n",
       "1566       28                     2  ...                        0   \n",
       "1567       78                     2  ...                        1   \n",
       "\n",
       "      Amount_on_GoldProds  WebVisitsMonth  Cmp3Accepted  Cmp4Accepted  \\\n",
       "0                      20               3             0             0   \n",
       "1                      19               6             0             0   \n",
       "2                      37               2             0             0   \n",
       "3                      24               8             0             0   \n",
       "4                     203               1             0             0   \n",
       "...                   ...             ...           ...           ...   \n",
       "1563                    4               5             0             0   \n",
       "1564                   27               4             0             0   \n",
       "1565                   70               7             0             1   \n",
       "1566                    1               4             0             0   \n",
       "1567                    0               8             0             0   \n",
       "\n",
       "      Cmp5Accepted  Cmp1Accepted  Cmp2Accepted  Any_Complain  Response  \n",
       "0                0             0             0             0         0  \n",
       "1                0             0             0             0         0  \n",
       "2                0             1             0             0         1  \n",
       "3                0             0             0             0         0  \n",
       "4                0             1             0             0         0  \n",
       "...            ...           ...           ...           ...       ...  \n",
       "1563             0             0             0             0         0  \n",
       "1564             0             0             0             0         0  \n",
       "1565             0             0             0             0         0  \n",
       "1566             0             0             0             0         0  \n",
       "1567             0             0             0             0         0  \n",
       "\n",
       "[1552 rows x 27 columns]"
      ]
     },
     "execution_count": 22,
     "metadata": {},
     "output_type": "execute_result"
    }
   ],
   "source": [
    "cleandata=myproduct.dropna()\n",
    "cleandata"
   ]
  },
  {
   "cell_type": "code",
   "execution_count": 23,
   "id": "dbe316c1",
   "metadata": {},
   "outputs": [
    {
     "data": {
      "text/plain": [
       "array([ 71, 205, 469, ..., 820,  57,  18], dtype=int64)"
      ]
     },
     "execution_count": 23,
     "metadata": {},
     "output_type": "execute_result"
    }
   ],
   "source": [
    "wines=np.array(myproduct[\"Amount_on_Wines\"])\n",
    "wines"
   ]
  },
  {
   "cell_type": "code",
   "execution_count": 25,
   "id": "1a3c41a3",
   "metadata": {},
   "outputs": [
    {
     "data": {
      "text/plain": [
       "475402"
      ]
     },
     "execution_count": 25,
     "metadata": {},
     "output_type": "execute_result"
    }
   ],
   "source": [
    "sumofwines=np.sum(wines)\n",
    "sumofwines"
   ]
  },
  {
   "cell_type": "code",
   "execution_count": 26,
   "id": "d2048f0b",
   "metadata": {},
   "outputs": [],
   "source": [
    "fruits=np.array(myproduct[\"Amount_on_Fruits\"])"
   ]
  },
  {
   "cell_type": "code",
   "execution_count": 28,
   "id": "44c1c83b",
   "metadata": {},
   "outputs": [
    {
     "data": {
      "text/plain": [
       "45615"
      ]
     },
     "execution_count": 28,
     "metadata": {},
     "output_type": "execute_result"
    }
   ],
   "source": [
    "sumoffruits=np.sum(fruits)\n",
    "sumoffruits"
   ]
  },
  {
   "cell_type": "code",
   "execution_count": 30,
   "id": "37d9defa",
   "metadata": {},
   "outputs": [
    {
     "data": {
      "text/plain": [
       "264014"
      ]
     },
     "execution_count": 30,
     "metadata": {},
     "output_type": "execute_result"
    }
   ],
   "source": [
    "meats=np.array(myproduct[\"Amount_on_MeatProducts\"])\n",
    "sumofmeats=np.sum(meats)\n",
    "sumofmeats"
   ]
  },
  {
   "cell_type": "code",
   "execution_count": 31,
   "id": "f5047e18",
   "metadata": {},
   "outputs": [],
   "source": [
    "newarr=np.array(myproduct)"
   ]
  },
  {
   "cell_type": "code",
   "execution_count": 32,
   "id": "93e64fe7",
   "metadata": {},
   "outputs": [
    {
     "data": {
      "text/plain": [
       "array([['Graduation', 3, 16, 0],\n",
       "       ['Graduation', 22, 111, 50],\n",
       "       ['Graduation', 31, 873, 29],\n",
       "       ...,\n",
       "       ['Master', 11, 53, 11],\n",
       "       ['PhD', 3, 9, 0],\n",
       "       ['Graduation', 5, 18, 6]], dtype=object)"
      ]
     },
     "execution_count": 32,
     "metadata": {},
     "output_type": "execute_result"
    }
   ],
   "source": [
    "arr=newarr[:,[2,14,15,16]]\n",
    "arr"
   ]
  },
  {
   "cell_type": "code",
   "execution_count": 33,
   "id": "fbc55345",
   "metadata": {},
   "outputs": [],
   "source": [
    "grafruitlist=[]\n",
    "otherlist=[]\n",
    "for x in arr:\n",
    "    if x[0]==\"Graduation\":\n",
    "        grafruitlist.append(x[1])\n",
    "    else:\n",
    "        otherlist.append(x[1])\n",
    "        "
   ]
  },
  {
   "cell_type": "code",
   "execution_count": 34,
   "id": "99378209",
   "metadata": {},
   "outputs": [
    {
     "data": {
      "text/plain": [
       "'PhD'"
      ]
     },
     "execution_count": 34,
     "metadata": {},
     "output_type": "execute_result"
    }
   ],
   "source": [
    "edu[wines.argmax()]"
   ]
  },
  {
   "cell_type": "code",
   "execution_count": 35,
   "id": "58fd5a1f",
   "metadata": {},
   "outputs": [
    {
     "data": {
      "text/plain": [
       "'Basic'"
      ]
     },
     "execution_count": 35,
     "metadata": {},
     "output_type": "execute_result"
    }
   ],
   "source": [
    "edu[wines.argmin()]"
   ]
  },
  {
   "cell_type": "code",
   "execution_count": 36,
   "id": "4d7690a0",
   "metadata": {},
   "outputs": [
    {
     "data": {
      "text/plain": [
       "'Married'"
      ]
     },
     "execution_count": 36,
     "metadata": {},
     "output_type": "execute_result"
    }
   ],
   "source": [
    "sta[wines.argmax()]"
   ]
  },
  {
   "cell_type": "code",
   "execution_count": 37,
   "id": "c4e01d77",
   "metadata": {},
   "outputs": [
    {
     "data": {
      "text/plain": [
       "'Single'"
      ]
     },
     "execution_count": 37,
     "metadata": {},
     "output_type": "execute_result"
    }
   ],
   "source": [
    "sta[wines.argmin()]"
   ]
  },
  {
   "cell_type": "code",
   "execution_count": 38,
   "id": "8c633d04",
   "metadata": {},
   "outputs": [
    {
     "data": {
      "text/plain": [
       "1950"
      ]
     },
     "execution_count": 38,
     "metadata": {},
     "output_type": "execute_result"
    }
   ],
   "source": [
    "year[wines.argmax()]"
   ]
  },
  {
   "cell_type": "code",
   "execution_count": 39,
   "id": "5ce07a90",
   "metadata": {},
   "outputs": [
    {
     "data": {
      "text/plain": [
       "1992"
      ]
     },
     "execution_count": 39,
     "metadata": {},
     "output_type": "execute_result"
    }
   ],
   "source": [
    "year[wines.argmin()]"
   ]
  },
  {
   "cell_type": "code",
   "execution_count": null,
   "id": "19c53cfb",
   "metadata": {},
   "outputs": [],
   "source": []
  }
 ],
 "metadata": {
  "kernelspec": {
   "display_name": "Python 3",
   "language": "python",
   "name": "python3"
  },
  "language_info": {
   "codemirror_mode": {
    "name": "ipython",
    "version": 3
   },
   "file_extension": ".py",
   "mimetype": "text/x-python",
   "name": "python",
   "nbconvert_exporter": "python",
   "pygments_lexer": "ipython3",
   "version": "3.8.8"
  }
 },
 "nbformat": 4,
 "nbformat_minor": 5
}
